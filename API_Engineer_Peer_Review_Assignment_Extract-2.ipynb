{
 "cells": [
  {
   "cell_type": "markdown",
   "metadata": {},
   "source": [
    "<p style=\"text-align:center\">\n",
    "    <a href=\"https://skills.network/?utm_medium=Exinfluencer&utm_source=Exinfluencer&utm_content=000026UJ&utm_term=10006555&utm_id=NA-SkillsNetwork-Channel-SkillsNetworkCoursesIBMDeveloperSkillsNetworkPY0221ENSkillsNetwork899-2023-01-01\">\n",
    "    <img src=\"https://cf-courses-data.s3.us.cloud-object-storage.appdomain.cloud/assets/logos/SN_web_lightmode.png\" width=\"200\" alt=\"Skills Network Logo\"  />\n",
    "    </a>\n",
    "</p>\n"
   ]
  },
  {
   "cell_type": "markdown",
   "metadata": {},
   "source": [
    "# Peer Review Assignment - Data Engineer - Extract API Data\n"
   ]
  },
  {
   "cell_type": "markdown",
   "metadata": {},
   "source": [
    "Estimated time needed: **20** minutes\n"
   ]
  },
  {
   "cell_type": "markdown",
   "metadata": {},
   "source": [
    "## Objectives\n",
    "\n",
    "In this part you will:\n",
    "\n",
    "-   Collect exchange rate data using an API\n",
    "-   Store the data as a CSV\n"
   ]
  },
  {
   "cell_type": "markdown",
   "metadata": {},
   "source": [
    "For this lab, we are going to be using Python and several Python libraries. Some of these libraries might be installed in your lab environment or in SN Labs. Others may need to be installed by you. The cells below will install these libraries when executed.\n"
   ]
  },
  {
   "cell_type": "code",
   "execution_count": 3,
   "metadata": {
    "tags": []
   },
   "outputs": [],
   "source": [
    "#!mamba install pandas==1.3.3 -y\n",
    "#!mamba install requests==2.26.0 -y"
   ]
  },
  {
   "cell_type": "markdown",
   "metadata": {},
   "source": [
    "## Imports\n",
    "\n",
    "Import any additional libraries you may need here.\n"
   ]
  },
  {
   "cell_type": "code",
   "execution_count": 6,
   "metadata": {
    "tags": []
   },
   "outputs": [],
   "source": [
    "import requests\n",
    "import pandas as pd\n",
    "import json"
   ]
  },
  {
   "cell_type": "markdown",
   "metadata": {},
   "source": [
    "## Extract Data Using an API\n"
   ]
  },
  {
   "cell_type": "markdown",
   "metadata": {},
   "source": [
    "Using ExchangeRate-API we will extract currency exchange rate data. Use the below steps to get the access key and to get the data. \n",
    "1. Open the url : https://exchangeratesapi.io/ and click on **Get Free API Key**. \n",
    "2. Subscribe for Free plan and Sign-in with the Google Account. \n",
    "3. Once the account is created you will be redirected to https://apilayer.com website.\n",
    "2. Now, click on the **user icon** and click **Account** as shown below:\n",
    "\n",
    "<img src=\"https://cf-courses-data.s3.us.cloud-object-storage.appdomain.cloud/IBMDeveloperSkillsNetwork-PY0221EN-SkillsNetwork/labs/module%206/Final%20Assignment/Images/account.png\">\n",
    "\n",
    "3. Scroll down and you will get the API Key section. Copy the API key and use in the url in Question 1.\n"
   ]
  },
  {
   "cell_type": "markdown",
   "metadata": {},
   "source": [
    "### Call the API\n",
    "\n",
    " <b> Question 1</b> Using the `requests` library call the endpoint given above and save the text, remember the first few characters of the output: \n"
   ]
  },
  {
   "cell_type": "code",
   "execution_count": 5,
   "metadata": {
    "tags": []
   },
   "outputs": [
    {
     "name": "stdout",
     "output_type": "stream",
     "text": [
      "{\"success\":true,\"timestamp\":1697201643,\"base\":\"EUR\",\"date\":\"2023-10-13\",\"rates\":{\"AED\":3.870864,\"AFN\":79.79536,\"ALL\":105.95277,\"AMD\":423.86762,\"ANG\":1.899235,\"AOA\":872.057073,\"ARS\":368.911519,\"AUD\":1.666,\"AWG\":1.896924,\"AZN\":1.790443,\"BAM\":1.959615,\"BBD\":2.127843,\"BDT\":116.187318,\"BGN\":1.959175,\"BHD\":0.397274,\"BIF\":2990.02153,\"BMD\":1.053847,\"BND\":1.443611,\"BOB\":7.282178,\"BRL\":5.328355,\"BSD\":1.053852,\"BTC\":3.9216098e-5,\"BTN\":87.729007,\"BWP\":14.476185,\"BYN\":3.471459,\"BYR\":20655.397773,\"BZD\":2.124236,\"CAD\":1.439656,\"CDF\":2660.963311,\"CHF\":0.954069,\"CLF\":0.035865,\"CLP\":989.804625,\"CNY\":7.697926,\"COP\":4491.48463,\"CRC\":559.689708,\"CUC\":1.053847,\"CUP\":27.926941,\"CVE\":110.480103,\"CZK\":24.647364,\"DJF\":187.635323,\"DKK\":7.457884,\"DOP\":59.894625,\"DZD\":145.3106,\"EGP\":32.570718,\"ERN\":15.807702,\"ETB\":58.792468,\"EUR\":1,\"FJD\":2.403405,\"FKP\":0.862973,\"GBP\":0.864396,\"GEL\":2.819074,\"GGP\":0.862973,\"GHS\":12.388119,\"GIP\":0.862973,\"GMD\":69.290189,\"GNF\":9049.705524,\"GTQ\":8.265092,\"GYD\":220.47927,\"HKD\":8.246299,\"HNL\":25.997617,\"HRK\":7.543974,\"HTG\":141.745977,\"HUF\":387.343482,\"IDR\":16550.453619,\"ILS\":4.188535,\"IMP\":0.862973,\"INR\":87.746501,\"IQD\":1381.589936,\"IRR\":44525.027948,\"ISK\":146.506133,\"JEP\":0.862973,\"JMD\":163.568466,\"JOD\":0.747807,\"JPY\":157.584352,\"KES\":157.336907,\"KGS\":93.971257,\"KHR\":4351.472256,\"KMF\":491.98805,\"KPW\":948.465319,\"KRW\":1423.778374,\"KWD\":0.326092,\"KYD\":0.87821,\"KZT\":502.498357,\"LAK\":21776.398345,\"LBP\":15839.439168,\"LKR\":341.464827,\"LRD\":196.91098,\"LSL\":19.991496,\"LTL\":3.111736,\"LVL\":0.637461,\"LYD\":5.138004,\"MAD\":10.758246,\"MDL\":19.047453,\"MGA\":4753.254521,\"MKD\":61.609261,\"MMK\":2213.108892,\"MNT\":3658.437097,\"MOP\":8.494038,\"MRO\":376.223135,\"MUR\":46.706978,\"MVR\":16.176475,\"MWK\":1221.878981,\"MXN\":18.83278,\"MYR\":4.983118,\"MZN\":66.655759,\"NAD\":19.991289,\"NGN\":814.370459,\"NIO\":38.565086,\"NOK\":11.510961,\"NPR\":140.36162,\"NZD\":1.780943,\"OMR\":0.405734,\"PAB\":1.053852,\"PEN\":4.047947,\"PGK\":3.891577,\"PHP\":59.863761,\"PKR\":292.391182,\"PLN\":4.538959,\"PYG\":7740.814172,\"QAR\":3.837037,\"RON\":4.965194,\"RSD\":117.194054,\"RUB\":102.592228,\"RWF\":1284.701296,\"SAR\":3.953094,\"SBD\":8.887145,\"SCR\":14.354071,\"SDG\":632.211781,\"SEK\":11.543706,\"SGD\":1.441531,\"SHP\":1.282268,\"SLE\":23.751209,\"SLL\":20813.474944,\"SOS\":601.746709,\"SSP\":632.834866,\"SRD\":40.266958,\"STD\":21812.501572,\"SYP\":13701.947219,\"SZL\":20.014969,\"THB\":38.160324,\"TJS\":11.576539,\"TMT\":3.688464,\"TND\":3.347546,\"TOP\":2.526229,\"TRY\":29.298523,\"TTD\":7.153929,\"TWD\":33.942824,\"TZS\":2639.886779,\"UAH\":38.323315,\"UGX\":3951.693893,\"USD\":1.053847,\"UYU\":41.891562,\"UZS\":12887.090987,\"VEF\":3670219.178244,\"VES\":36.73341,\"VND\":25771.824109,\"VUV\":128.209733,\"WST\":2.924153,\"XAF\":657.236631,\"XAG\":0.046554,\"XAU\":0.000551,\"XCD\":2.848073,\"XDR\":0.80146,\"XOF\":657.242879,\"XPF\":119.832366,\"YER\":263.78401,\"ZAR\":19.887041,\"ZMK\":9485.888279,\"ZMW\":22.473756,\"ZWL\":339.338248}}\n"
     ]
    }
   ],
   "source": [
    "# Write your code here\n",
    "url = \"http://api.exchangeratesapi.io/v1/latest?base=EUR&access_key=e5912b969a34e36999062fc0ee43f3bc\"  #Make sure to change ******* to your API key.\n",
    "response = requests.get(url)\n",
    "api_response_text = response.text\n",
    "print(api_response_text)\n"
   ]
  },
  {
   "cell_type": "markdown",
   "metadata": {
    "tags": []
   },
   "source": [
    "### Save as DataFrame\n",
    "\n",
    " <b> Question 2</b>  Using the data gathered turn it into a `pandas` dataframe. The dataframe should have the Currency as the index and `Rate` as their columns. Make sure to drop unnecessary columns.\n"
   ]
  },
  {
   "cell_type": "code",
   "execution_count": 7,
   "metadata": {
    "tags": []
   },
   "outputs": [
    {
     "name": "stdout",
     "output_type": "stream",
     "text": [
      "                 Rate\n",
      "Currency             \n",
      "AED          3.870864\n",
      "AFN         79.795360\n",
      "ALL        105.952770\n",
      "AMD        423.867620\n",
      "ANG          1.899235\n",
      "...               ...\n",
      "YER        263.784010\n",
      "ZAR         19.887041\n",
      "ZMK       9485.888279\n",
      "ZMW         22.473756\n",
      "ZWL        339.338248\n",
      "\n",
      "[170 rows x 1 columns]\n"
     ]
    }
   ],
   "source": [
    "data = json.loads(api_response_text)\n",
    "\n",
    "rates = data[\"rates\"]\n",
    "\n",
    "# Create a DataFrame from the rates dictionary\n",
    "df = pd.DataFrame(rates.items(), columns=['Currency', 'Rate'])\n",
    "\n",
    "# Set the 'Currency' column as the index\n",
    "df.set_index('Currency', inplace=True)\n",
    "\n",
    "\n",
    "print(df)\n"
   ]
  },
  {
   "cell_type": "code",
   "execution_count": null,
   "metadata": {},
   "outputs": [],
   "source": [
    "# Drop unnescessary columns\n"
   ]
  },
  {
   "cell_type": "markdown",
   "metadata": {},
   "source": [
    "### Load the Data\n",
    "\n",
    "Using the dataframe save it as a CSV names `exchange_rates_1.csv`.\n"
   ]
  },
  {
   "cell_type": "code",
   "execution_count": 9,
   "metadata": {},
   "outputs": [],
   "source": [
    "df.to_csv(\"exchange_rates_1.csv\")"
   ]
  },
  {
   "cell_type": "markdown",
   "metadata": {},
   "source": [
    "Your CSV should be in this format with more currencies\n",
    "\n",
    "| | Rates |\n",
    "| ------- | ------- |\n",
    "|  AED| 4.398618    |\n",
    "|  AFN| 92.917693   |  \n",
    "|  ALL| 123.099093  |\n",
    "|  AMD| 621.935674  |\n",
    "|  ANG| 2.149648    | \n"
   ]
  },
  {
   "cell_type": "markdown",
   "metadata": {},
   "source": [
    "## Authors\n"
   ]
  },
  {
   "cell_type": "markdown",
   "metadata": {},
   "source": [
    "Ramesh Sannareddy, Joseph Santarcangelo and Azim Hirjani\n"
   ]
  },
  {
   "cell_type": "markdown",
   "metadata": {},
   "source": [
    "### Other Contributors\n"
   ]
  },
  {
   "cell_type": "markdown",
   "metadata": {},
   "source": [
    "Rav Ahuja\n"
   ]
  },
  {
   "cell_type": "markdown",
   "metadata": {},
   "source": [
    "## Change Log\n"
   ]
  },
  {
   "cell_type": "markdown",
   "metadata": {},
   "source": [
    "| Date (YYYY-MM-DD) | Version | Changed By        | Change Description                 |\n",
    "| ----------------- | ------- | ----------------- | ---------------------------------- |\n",
    "| 2022-05-06        | 0.3     | Malika            | Updated instructions to get the API and the url|\n",
    "| 2021-04-15        | 0.2     | Malika            | Updated the lab from USD to EUR    |\n",
    "| 2020-11-25        | 0.1     | Ramesh Sannareddy | Created initial version of the lab |\n"
   ]
  },
  {
   "cell_type": "markdown",
   "metadata": {},
   "source": [
    " Copyright © 2020 IBM Corporation. This notebook and its source code are released under the terms of the [MIT License](https://cognitiveclass.ai/mit-license?utm_medium=Exinfluencer&utm_source=Exinfluencer&utm_content=000026UJ&utm_term=10006555&utm_id=NA-SkillsNetwork-Channel-SkillsNetworkCoursesIBMDeveloperSkillsNetworkPY0221ENSkillsNetwork899-2023-01-01&cm_mmc=Email_Newsletter-_-Developer_Ed%2BTech-_-WW_WW-_-SkillsNetwork-Courses-IBM-DA0321EN-SkillsNetwork-21426264&cm_mmca1=000026UJ&cm_mmca2=10006555&cm_mmca3=M12345678&cvosrc=email.Newsletter.M12345678&cvo_campaign=000026UJ).\n"
   ]
  }
 ],
 "metadata": {
  "kernelspec": {
   "display_name": "Python",
   "language": "python",
   "name": "conda-env-python-py"
  },
  "language_info": {
   "codemirror_mode": {
    "name": "ipython",
    "version": 3
   },
   "file_extension": ".py",
   "mimetype": "text/x-python",
   "name": "python",
   "nbconvert_exporter": "python",
   "pygments_lexer": "ipython3",
   "version": "3.7.12"
  }
 },
 "nbformat": 4,
 "nbformat_minor": 4
}
